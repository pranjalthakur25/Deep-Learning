{
  "nbformat": 4,
  "nbformat_minor": 0,
  "metadata": {
    "colab": {
      "provenance": []
    },
    "kernelspec": {
      "name": "python3",
      "display_name": "Python 3"
    },
    "language_info": {
      "name": "python"
    }
  },
  "cells": [
    {
      "cell_type": "code",
      "execution_count": 20,
      "metadata": {
        "id": "oSQE9SKnK4MX"
      },
      "outputs": [],
      "source": [
        "##importing libraries\n",
        "import numpy as np\n",
        "import matplotlib.pyplot as plt\n"
      ]
    },
    {
      "cell_type": "code",
      "source": [
        "##input variables and expected outcome for the XOR gate\n",
        "a=np.array([0, 0, 1, 1])\n",
        "b=np.array([0, 1, 0, 1])\n",
        "y_xor=np.array([[0, 1, 1, 0]])"
      ],
      "metadata": {
        "id": "z5zbPsiwPx9c"
      },
      "execution_count": 4,
      "outputs": []
    },
    {
      "cell_type": "code",
      "source": [
        "##combining the total input array and one output array for the neural network\n",
        "total_input=[]\n",
        "total_input=[a, b]\n",
        "total_input=np.array(total_input)\n",
        "print(total_input)"
      ],
      "metadata": {
        "colab": {
          "base_uri": "https://localhost:8080/"
        },
        "id": "pQq7lqjxQTM4",
        "outputId": "414798af-f242-4cbb-c524-a5e70ba08439"
      },
      "execution_count": 5,
      "outputs": [
        {
          "output_type": "stream",
          "name": "stdout",
          "text": [
            "[[0 0 1 1]\n",
            " [0 1 0 1]]\n"
          ]
        }
      ]
    },
    {
      "cell_type": "code",
      "source": [
        "##sigmoid function defines the output of that node given an input or set of inputs\n",
        "def sigmoid(x):\n",
        "  return 1/(1+np.exp(-x))"
      ],
      "metadata": {
        "id": "MPlwXE-8QvJV"
      },
      "execution_count": 6,
      "outputs": []
    },
    {
      "cell_type": "code",
      "source": [
        "##number of neurons\n",
        "input_neuron, hidden_neuron, output_neuron=2, 2, 1\n"
      ],
      "metadata": {
        "id": "VYxu5KXoSV_0"
      },
      "execution_count": 7,
      "outputs": []
    },
    {
      "cell_type": "code",
      "source": [
        "##total number of training examples\n",
        "samples=total_input.shape[1]"
      ],
      "metadata": {
        "id": "sZN8D34RSv4N"
      },
      "execution_count": 8,
      "outputs": []
    },
    {
      "cell_type": "code",
      "source": [
        "##learning rate\n",
        "Lr=0.1"
      ],
      "metadata": {
        "id": "D2yqcAH7S7F-"
      },
      "execution_count": 16,
      "outputs": []
    },
    {
      "cell_type": "code",
      "source": [
        "##seed () method is used to initialize the random number generator\n",
        "np.random.seed(42)"
      ],
      "metadata": {
        "id": "lKqkqg0akv5k"
      },
      "execution_count": 10,
      "outputs": []
    },
    {
      "cell_type": "code",
      "source": [
        "# Initializing the weights for hidden and output layers\n",
        "\n",
        "w1 = np.random.rand(hidden_neuron, input_neuron)\n",
        "w2 = np.random.rand(output_neuron, hidden_neuron)"
      ],
      "metadata": {
        "id": "WEXPuHNJk5FL"
      },
      "execution_count": 13,
      "outputs": []
    },
    {
      "cell_type": "code",
      "source": [
        "# Forward propagation\n",
        "def forward_prop(w1, w2, x):\n",
        "    z1 = np.dot(w1, x)\n",
        "    a1 = sigmoid(z1)\n",
        "    z2 = np.dot(w2, a1)\n",
        "    a2 = sigmoid(z2)\n",
        "    return z1, a1, z2, a2\n",
        "\n",
        "# Backward propagation\n",
        "def back_prop(m, w1, w2, z1, a1, z2, a2, y):\n",
        "\n",
        "    dz2 = a2-y\n",
        "    dw2 = np.dot(dz2, a1.T)/m\n",
        "    dz1 = np.dot(w2.T, dz2) * a1*(1-a1)\n",
        "    dw1 = np.dot(dz1, total_input.T)/m\n",
        "    dw1 = np.reshape(dw1, w1.shape)\n",
        "\n",
        "    dw2 = np.reshape(dw2,w2.shape)\n",
        "    return dz2,dw2,dz1,dw1"
      ],
      "metadata": {
        "id": "6Os4GIwslRb7"
      },
      "execution_count": 14,
      "outputs": []
    },
    {
      "cell_type": "code",
      "source": [
        "##start computing the loss accordingly by comparing it with the expected output\n",
        "losses = []\n",
        "iterations = 10000\n",
        "\n",
        "for i in range(iterations):\n",
        "    z1, a1, z2, a2 = forward_prop(w1, w2, total_input)\n",
        "    loss = -(1/samples)*np.sum(y_xor*np.log(a2)+(1-y_xor)*np.log(1-a2))\n",
        "    losses.append(loss)\n",
        "    ##fine-tune the weights to receive the final result equivalent to the expected outcome\n",
        "    da2, dw2, dz1, dw1 = back_prop(samples, w1, w2, z1, a1, z2, a2, y_xor)\n",
        "    w2 = w2-Lr*dw2\n",
        "    w1 = w1-Lr*dw1\n",
        "\n",
        "# We plot losses to see how our network is doing\n",
        "plt.plot(losses)\n",
        "plt.xlabel(\"EPOCHS\")\n",
        "plt.ylabel(\"Loss value\")"
      ],
      "metadata": {
        "colab": {
          "base_uri": "https://localhost:8080/",
          "height": 466
        },
        "id": "P9oKOm5Gld_-",
        "outputId": "6423a253-8658-4a3a-e30a-809b62c362c4"
      },
      "execution_count": 17,
      "outputs": [
        {
          "output_type": "execute_result",
          "data": {
            "text/plain": [
              "Text(0, 0.5, 'Loss value')"
            ]
          },
          "metadata": {},
          "execution_count": 17
        },
        {
          "output_type": "display_data",
          "data": {
            "text/plain": [
              "<Figure size 640x480 with 1 Axes>"
            ],
            "image/png": "[encoded data removed]"
          },
          "metadata": {}
        }
      ]
    },
    {
      "cell_type": "code",
      "source": [
        "# We will perform the forward propagation by creating the predict function\n",
        "\n",
        "def predict(w1,w2,input):\n",
        "    z1, a1, z2, a2 = forward_prop(w1,w2,test)\n",
        "    a2 = np.squeeze(a2)\n",
        "\n",
        "    if a2>=0.5:\n",
        "        print(\"For input\", [i[0] for i in input], \"output is 1\")\n",
        "    else:\n",
        "        print(\"For input\", [i[0] for i in input], \"output is 0\")"
      ],
      "metadata": {
        "id": "-Oz3SI44m8UH"
      },
      "execution_count": 18,
      "outputs": []
    },
    {
      "cell_type": "code",
      "source": [
        "## testing the results predicted for each of the four possible cases and compare them with the expected outcomes of the XOR gate\n",
        "test = np.array([[0],[0]])\n",
        "predict(w1,w2,test)\n",
        "\n",
        "test = np.array([[0],[1]])\n",
        "predict(w1,w2,test)\n",
        "\n",
        "test = np.array([[1],[0]])\n",
        "predict(w1,w2,test)\n",
        "\n",
        "test = np.array([[1],[1]])\n",
        "predict(w1,w2,test)"
      ],
      "metadata": {
        "colab": {
          "base_uri": "https://localhost:8080/"
        },
        "id": "HK2ux5YImtcb",
        "outputId": "f077ff0a-e795-4508-988a-03c50f50d210"
      },
      "execution_count": 19,
      "outputs": [
        {
          "output_type": "stream",
          "name": "stdout",
          "text": [
            "For input [0, 0] output is 0\n",
            "For input [0, 1] output is 1\n",
            "For input [1, 0] output is 1\n",
            "For input [1, 1] output is 0\n"
          ]
        }
      ]
    },
    {
      "cell_type": "code",
      "source": [],
      "metadata": {
        "id": "K0scpbQrnWY0"
      },
      "execution_count": null,
      "outputs": []
    }
  ]
}