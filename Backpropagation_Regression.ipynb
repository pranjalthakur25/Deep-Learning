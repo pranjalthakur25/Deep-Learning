{
  "nbformat": 4,
  "nbformat_minor": 0,
  "metadata": {
    "colab": {
      "provenance": [],
      "authorship_tag": "ABX9TyMn6o76UVHyqaZT73H44yS4"
    },
    "kernelspec": {
      "name": "python3",
      "display_name": "Python 3"
    },
    "language_info": {
      "name": "python"
    }
  },
  "cells": [
    {
      "cell_type": "code",
      "execution_count": 1,
      "metadata": {
        "id": "8hVdO7ZCkNz0"
      },
      "outputs": [],
      "source": [
        "import numpy as np\n",
        "import pandas as pd"
      ]
    },
    {
      "cell_type": "code",
      "source": [
        "df=pd.DataFrame([[8,8,4],[7,9,5],[6,10,6],[5,12,7]], columns=['cgpa','profile_score','lpa'])"
      ],
      "metadata": {
        "id": "S4t67khLko1O"
      },
      "execution_count": 2,
      "outputs": []
    },
    {
      "cell_type": "code",
      "source": [
        "df"
      ],
      "metadata": {
        "colab": {
          "base_uri": "https://localhost:8080/",
          "height": 175
        },
        "id": "fUT-HZimlPda",
        "outputId": "5b3ee09d-4167-4e32-b2b9-0d2f8e0e9e86"
      },
      "execution_count": 3,
      "outputs": [
        {
          "output_type": "execute_result",
          "data": {
            "text/plain": [
              "   cgpa  profile_score  lpa\n",
              "0     8              8    4\n",
              "1     7              9    5\n",
              "2     6             10    6\n",
              "3     5             12    7"
            ],
            "text/html": [
              "\n",
              "  <div id=\"df-0ff35be3-8623-45af-96a3-d0ea321f57cf\" class=\"colab-df-container\">\n",
              "    <div>\n",
              "<style scoped>\n",
              "    .dataframe tbody tr th:only-of-type {\n",
              "        vertical-align: middle;\n",
              "    }\n",
              "\n",
              "    .dataframe tbody tr th {\n",
              "        vertical-align: top;\n",
              "    }\n",
              "\n",
              "    .dataframe thead th {\n",
              "        text-align: right;\n",
              "    }\n",
              "</style>\n",
              "<table border=\"1\" class=\"dataframe\">\n",
              "  <thead>\n",
              "    <tr style=\"text-align: right;\">\n",
              "      <th></th>\n",
              "      <th>cgpa</th>\n",
              "      <th>profile_score</th>\n",
              "      <th>lpa</th>\n",
              "    </tr>\n",
              "  </thead>\n",
              "  <tbody>\n",
              "    <tr>\n",
              "      <th>0</th>\n",
              "      <td>8</td>\n",
              "      <td>8</td>\n",
              "      <td>4</td>\n",
              "    </tr>\n",
              "    <tr>\n",
              "      <th>1</th>\n",
              "      <td>7</td>\n",
              "      <td>9</td>\n",
              "      <td>5</td>\n",
              "    </tr>\n",
              "    <tr>\n",
              "      <th>2</th>\n",
              "      <td>6</td>\n",
              "      <td>10</td>\n",
              "      <td>6</td>\n",
              "    </tr>\n",
              "    <tr>\n",
              "      <th>3</th>\n",
              "      <td>5</td>\n",
              "      <td>12</td>\n",
              "      <td>7</td>\n",
              "    </tr>\n",
              "  </tbody>\n",
              "</table>\n",
              "</div>\n",
              "    <div class=\"colab-df-buttons\">\n",
              "\n",
              "  <div class=\"colab-df-container\">\n",
              "    <button class=\"colab-df-convert\" onclick=\"convertToInteractive('df-0ff35be3-8623-45af-96a3-d0ea321f57cf')\"\n",
              "            title=\"Convert this dataframe to an interactive table.\"\n",
              "            style=\"display:none;\">\n",
              "\n",
              "  <svg xmlns=\"http://www.w3.org/2000/svg\" height=\"24px\" viewBox=\"0 -960 960 960\">\n",
              "    <path d=\"M120-120v-720h720v720H120Zm60-500h600v-160H180v160Zm220 220h160v-160H400v160Zm0 220h160v-160H400v160ZM180-400h160v-160H180v160Zm440 0h160v-160H620v160ZM180-180h160v-160H180v160Zm440 0h160v-160H620v160Z\"/>\n",
              "  </svg>\n",
              "    </button>\n",
              "\n",
              "  <style>\n",
              "    .colab-df-container {\n",
              "      display:flex;\n",
              "      gap: 12px;\n",
              "    }\n",
              "\n",
              "    .colab-df-convert {\n",
              "      background-color: #E8F0FE;\n",
              "      border: none;\n",
              "      border-radius: 50%;\n",
              "      cursor: pointer;\n",
              "      display: none;\n",
              "      fill: #1967D2;\n",
              "      height: 32px;\n",
              "      padding: 0 0 0 0;\n",
              "      width: 32px;\n",
              "    }\n",
              "\n",
              "    .colab-df-convert:hover {\n",
              "      background-color: #E2EBFA;\n",
              "      box-shadow: 0px 1px 2px rgba(60, 64, 67, 0.3), 0px 1px 3px 1px rgba(60, 64, 67, 0.15);\n",
              "      fill: #174EA6;\n",
              "    }\n",
              "\n",
              "    .colab-df-buttons div {\n",
              "      margin-bottom: 4px;\n",
              "    }\n",
              "\n",
              "    [theme=dark] .colab-df-convert {\n",
              "      background-color: #3B4455;\n",
              "      fill: #D2E3FC;\n",
              "    }\n",
              "\n",
              "    [theme=dark] .colab-df-convert:hover {\n",
              "      background-color: #434B5C;\n",
              "      box-shadow: 0px 1px 3px 1px rgba(0, 0, 0, 0.15);\n",
              "      filter: drop-shadow(0px 1px 2px rgba(0, 0, 0, 0.3));\n",
              "      fill: #FFFFFF;\n",
              "    }\n",
              "  </style>\n",
              "\n",
              "    <script>\n",
              "      const buttonEl =\n",
              "        document.querySelector('#df-0ff35be3-8623-45af-96a3-d0ea321f57cf button.colab-df-convert');\n",
              "      buttonEl.style.display =\n",
              "        google.colab.kernel.accessAllowed ? 'block' : 'none';\n",
              "\n",
              "      async function convertToInteractive(key) {\n",
              "        const element = document.querySelector('#df-0ff35be3-8623-45af-96a3-d0ea321f57cf');\n",
              "        const dataTable =\n",
              "          await google.colab.kernel.invokeFunction('convertToInteractive',\n",
              "                                                    [key], {});\n",
              "        if (!dataTable) return;\n",
              "\n",
              "        const docLinkHtml = 'Like what you see? Visit the ' +\n",
              "          '<a target=\"_blank\" href=https://colab.research.google.com/notebooks/data_table.ipynb>data table notebook</a>'\n",
              "          + ' to learn more about interactive tables.';\n",
              "        element.innerHTML = '';\n",
              "        dataTable['output_type'] = 'display_data';\n",
              "        await google.colab.output.renderOutput(dataTable, element);\n",
              "        const docLink = document.createElement('div');\n",
              "        docLink.innerHTML = docLinkHtml;\n",
              "        element.appendChild(docLink);\n",
              "      }\n",
              "    </script>\n",
              "  </div>\n",
              "\n",
              "\n",
              "<div id=\"df-7687bba3-ab4c-4387-8c36-f4e98c07d4a7\">\n",
              "  <button class=\"colab-df-quickchart\" onclick=\"quickchart('df-7687bba3-ab4c-4387-8c36-f4e98c07d4a7')\"\n",
              "            title=\"Suggest charts\"\n",
              "            style=\"display:none;\">\n",
              "\n",
              "<svg xmlns=\"http://www.w3.org/2000/svg\" height=\"24px\"viewBox=\"0 0 24 24\"\n",
              "     width=\"24px\">\n",
              "    <g>\n",
              "        <path d=\"M19 3H5c-1.1 0-2 .9-2 2v14c0 1.1.9 2 2 2h14c1.1 0 2-.9 2-2V5c0-1.1-.9-2-2-2zM9 17H7v-7h2v7zm4 0h-2V7h2v10zm4 0h-2v-4h2v4z\"/>\n",
              "    </g>\n",
              "</svg>\n",
              "  </button>\n",
              "\n",
              "<style>\n",
              "  .colab-df-quickchart {\n",
              "      --bg-color: #E8F0FE;\n",
              "      --fill-color: #1967D2;\n",
              "      --hover-bg-color: #E2EBFA;\n",
              "      --hover-fill-color: #174EA6;\n",
              "      --disabled-fill-color: #AAA;\n",
              "      --disabled-bg-color: #DDD;\n",
              "  }\n",
              "\n",
              "  [theme=dark] .colab-df-quickchart {\n",
              "      --bg-color: #3B4455;\n",
              "      --fill-color: #D2E3FC;\n",
              "      --hover-bg-color: #434B5C;\n",
              "      --hover-fill-color: #FFFFFF;\n",
              "      --disabled-bg-color: #3B4455;\n",
              "      --disabled-fill-color: #666;\n",
              "  }\n",
              "\n",
              "  .colab-df-quickchart {\n",
              "    background-color: var(--bg-color);\n",
              "    border: none;\n",
              "    border-radius: 50%;\n",
              "    cursor: pointer;\n",
              "    display: none;\n",
              "    fill: var(--fill-color);\n",
              "    height: 32px;\n",
              "    padding: 0;\n",
              "    width: 32px;\n",
              "  }\n",
              "\n",
              "  .colab-df-quickchart:hover {\n",
              "    background-color: var(--hover-bg-color);\n",
              "    box-shadow: 0 1px 2px rgba(60, 64, 67, 0.3), 0 1px 3px 1px rgba(60, 64, 67, 0.15);\n",
              "    fill: var(--button-hover-fill-color);\n",
              "  }\n",
              "\n",
              "  .colab-df-quickchart-complete:disabled,\n",
              "  .colab-df-quickchart-complete:disabled:hover {\n",
              "    background-color: var(--disabled-bg-color);\n",
              "    fill: var(--disabled-fill-color);\n",
              "    box-shadow: none;\n",
              "  }\n",
              "\n",
              "  .colab-df-spinner {\n",
              "    border: 2px solid var(--fill-color);\n",
              "    border-color: transparent;\n",
              "    border-bottom-color: var(--fill-color);\n",
              "    animation:\n",
              "      spin 1s steps(1) infinite;\n",
              "  }\n",
              "\n",
              "  @keyframes spin {\n",
              "    0% {\n",
              "      border-color: transparent;\n",
              "      border-bottom-color: var(--fill-color);\n",
              "      border-left-color: var(--fill-color);\n",
              "    }\n",
              "    20% {\n",
              "      border-color: transparent;\n",
              "      border-left-color: var(--fill-color);\n",
              "      border-top-color: var(--fill-color);\n",
              "    }\n",
              "    30% {\n",
              "      border-color: transparent;\n",
              "      border-left-color: var(--fill-color);\n",
              "      border-top-color: var(--fill-color);\n",
              "      border-right-color: var(--fill-color);\n",
              "    }\n",
              "    40% {\n",
              "      border-color: transparent;\n",
              "      border-right-color: var(--fill-color);\n",
              "      border-top-color: var(--fill-color);\n",
              "    }\n",
              "    60% {\n",
              "      border-color: transparent;\n",
              "      border-right-color: var(--fill-color);\n",
              "    }\n",
              "    80% {\n",
              "      border-color: transparent;\n",
              "      border-right-color: var(--fill-color);\n",
              "      border-bottom-color: var(--fill-color);\n",
              "    }\n",
              "    90% {\n",
              "      border-color: transparent;\n",
              "      border-bottom-color: var(--fill-color);\n",
              "    }\n",
              "  }\n",
              "</style>\n",
              "\n",
              "  <script>\n",
              "    async function quickchart(key) {\n",
              "      const quickchartButtonEl =\n",
              "        document.querySelector('#' + key + ' button');\n",
              "      quickchartButtonEl.disabled = true;  // To prevent multiple clicks.\n",
              "      quickchartButtonEl.classList.add('colab-df-spinner');\n",
              "      try {\n",
              "        const charts = await google.colab.kernel.invokeFunction(\n",
              "            'suggestCharts', [key], {});\n",
              "      } catch (error) {\n",
              "        console.error('Error during call to suggestCharts:', error);\n",
              "      }\n",
              "      quickchartButtonEl.classList.remove('colab-df-spinner');\n",
              "      quickchartButtonEl.classList.add('colab-df-quickchart-complete');\n",
              "    }\n",
              "    (() => {\n",
              "      let quickchartButtonEl =\n",
              "        document.querySelector('#df-7687bba3-ab4c-4387-8c36-f4e98c07d4a7 button');\n",
              "      quickchartButtonEl.style.display =\n",
              "        google.colab.kernel.accessAllowed ? 'block' : 'none';\n",
              "    })();\n",
              "  </script>\n",
              "</div>\n",
              "    </div>\n",
              "  </div>\n"
            ],
            "application/vnd.google.colaboratory.intrinsic+json": {
              "type": "dataframe",
              "variable_name": "df",
              "summary": "{\n  \"name\": \"df\",\n  \"rows\": 4,\n  \"fields\": [\n    {\n      \"column\": \"cgpa\",\n      \"properties\": {\n        \"dtype\": \"number\",\n        \"std\": 1,\n        \"min\": 5,\n        \"max\": 8,\n        \"num_unique_values\": 4,\n        \"samples\": [\n          7,\n          5,\n          8\n        ],\n        \"semantic_type\": \"\",\n        \"description\": \"\"\n      }\n    },\n    {\n      \"column\": \"profile_score\",\n      \"properties\": {\n        \"dtype\": \"number\",\n        \"std\": 1,\n        \"min\": 8,\n        \"max\": 12,\n        \"num_unique_values\": 4,\n        \"samples\": [\n          9,\n          12,\n          8\n        ],\n        \"semantic_type\": \"\",\n        \"description\": \"\"\n      }\n    },\n    {\n      \"column\": \"lpa\",\n      \"properties\": {\n        \"dtype\": \"number\",\n        \"std\": 1,\n        \"min\": 4,\n        \"max\": 7,\n        \"num_unique_values\": 4,\n        \"samples\": [\n          5,\n          7,\n          4\n        ],\n        \"semantic_type\": \"\",\n        \"description\": \"\"\n      }\n    }\n  ]\n}"
            }
          },
          "metadata": {},
          "execution_count": 3
        }
      ]
    },
    {
      "cell_type": "code",
      "source": [
        "def initialize_parameters(layer_dims):\n",
        "  np.random.seed(3)\n",
        "  parameters={}\n",
        "  L=len(layer_dims)\n",
        "  for l in range(1,L):\n",
        "    parameters['W'+str(l)]=np.ones((layer_dims[l-1], layer_dims[l]))*0.1\n",
        "    parameters['b'+str(l)]=np.zeros((layer_dims[l],1))\n",
        "  return parameters"
      ],
      "metadata": {
        "id": "BFxi1GYqlSpC"
      },
      "execution_count": 24,
      "outputs": []
    },
    {
      "cell_type": "code",
      "source": [
        "initialize_parameters([2,2,1])"
      ],
      "metadata": {
        "id": "PEYYSUID8OHQ"
      },
      "execution_count": 26,
      "outputs": []
    },
    {
      "cell_type": "code",
      "source": [
        "def linear_forward(A_prev, W, b):\n",
        "  Z=np.dot(W.T, A_prev)+b\n",
        "  return Z"
      ],
      "metadata": {
        "id": "oE6tnbaAnQyF"
      },
      "execution_count": 5,
      "outputs": []
    },
    {
      "cell_type": "code",
      "source": [
        "def L_layer_forward(X, parameters):\n",
        "  A=X\n",
        "  L=len(parameters)//2\n",
        "  print(L, parameters)\n",
        "  for l in range(1,L+1):\n",
        "    A_prev=A\n",
        "    wl=parameters['W'+str(l)]\n",
        "    bl=parameters['b'+str(l)]\n",
        "    A=linear_forward(A_prev, wl,bl)\n",
        "  return A, A_prev"
      ],
      "metadata": {
        "id": "JbgJJVIDqClP"
      },
      "execution_count": 6,
      "outputs": []
    },
    {
      "cell_type": "code",
      "source": [
        "x=df[['cgpa','profile_score']].values[0].reshape(2,1)\n",
        "y=df[['lpa']].values[0][0]\n",
        "para=initialize_parameters([2,2,1])\n",
        "L_layer_forward(x,para)"
      ],
      "metadata": {
        "colab": {
          "base_uri": "https://localhost:8080/"
        },
        "id": "o8G4V0qTquhr",
        "outputId": "e77158f4-f9e1-47a6-e5c4-a42908a4528c"
      },
      "execution_count": 7,
      "outputs": [
        {
          "output_type": "stream",
          "name": "stdout",
          "text": [
            "2 {'W1': array([[0.1, 0.1],\n",
            "       [0.1, 0.1]]), 'b1': array([[0.],\n",
            "       [0.]]), 'W2': array([[0.1],\n",
            "       [0.1]]), 'b2': array([[0.]])}\n"
          ]
        },
        {
          "output_type": "execute_result",
          "data": {
            "text/plain": [
              "(array([[0.32]]),\n",
              " array([[1.6],\n",
              "        [1.6]]))"
            ]
          },
          "metadata": {},
          "execution_count": 7
        }
      ]
    },
    {
      "cell_type": "code",
      "source": [
        "y_hat,A1=L_layer_forward(x,para)"
      ],
      "metadata": {
        "colab": {
          "base_uri": "https://localhost:8080/"
        },
        "id": "MH7JxoYTstad",
        "outputId": "8948bc71-e64c-44d2-a63b-006c97b97395"
      },
      "execution_count": 8,
      "outputs": [
        {
          "output_type": "stream",
          "name": "stdout",
          "text": [
            "2 {'W1': array([[0.1, 0.1],\n",
            "       [0.1, 0.1]]), 'b1': array([[0.],\n",
            "       [0.]]), 'W2': array([[0.1],\n",
            "       [0.1]]), 'b2': array([[0.]])}\n"
          ]
        }
      ]
    },
    {
      "cell_type": "code",
      "source": [
        "y_hat=y_hat[0][0]"
      ],
      "metadata": {
        "id": "cCeKoPp-SNZo"
      },
      "execution_count": 9,
      "outputs": []
    },
    {
      "cell_type": "code",
      "source": [
        "A1"
      ],
      "metadata": {
        "colab": {
          "base_uri": "https://localhost:8080/"
        },
        "id": "MoMl1erBSw6T",
        "outputId": "59b04ed4-323b-4f29-af09-c49cfafd4c77"
      },
      "execution_count": 10,
      "outputs": [
        {
          "output_type": "execute_result",
          "data": {
            "text/plain": [
              "array([[1.6],\n",
              "       [1.6]])"
            ]
          },
          "metadata": {},
          "execution_count": 10
        }
      ]
    },
    {
      "cell_type": "code",
      "source": [
        "def update_parameter(parameters,y,y_hat,A1,X):\n",
        "  parameters['W2'][0][0]=parameters['W2'][0][0]+(0.001*2*(y-y_hat)*A1[0][0])\n",
        "  parameters['W2'][1][0] = parameters['W2'][1][0] + (0.001 * 2 * (y - y_hat)*A1[1][0])\n",
        "  parameters['b2'][0][0] = parameters['W2'][1][0] + (0.001 * 2 * (y - y_hat))\n",
        "\n",
        "  parameters['W1'][0][0] = parameters['W1'][0][0] + (0.001 * 2 * (y - y_hat)*parameters['W2'][0][0]*X[0][0])\n",
        "  parameters['W1'][0][1] = parameters['W1'][0][1] + (0.001 * 2 * (y - y_hat)*parameters['W2'][0][0]*X[1][0])\n",
        "  parameters['b1'][0][0] = parameters['b1'][0][0] + (0.001 * 2 * (y - y_hat)*parameters['W2'][0][0])\n",
        "\n",
        "  parameters['W1'][1][0] = parameters['W1'][1][0] + (0.001 * 2 * (y - y_hat)*parameters['W2'][1][0]*X[0][0])\n",
        "  parameters['W1'][1][1] = parameters['W1'][1][1] + (0.001 * 2 * (y - y_hat)*parameters['W2'][1][0]*X[1][0])\n",
        "  parameters['b1'][1][0] = parameters['b1'][1][0] + (0.001 * 2 * (y - y_hat)*parameters['W2'][1][0])"
      ],
      "metadata": {
        "id": "4Lzs8AwrTD2u"
      },
      "execution_count": 15,
      "outputs": []
    },
    {
      "cell_type": "code",
      "source": [
        "x=df[['cgpa','profile_score']].values[0].reshape(2,1)\n",
        "y=df[['lpa']].values[0][0]\n",
        "\n",
        "parameters=initialize_parameters([2,2,1])\n",
        "y_hat,A1=L_layer_forward(x,parameters)\n",
        "y_hat=y_hat[0][0]\n",
        "\n",
        "update_parameter(parameters,y,y_hat,A1,x)\n",
        "parameters"
      ],
      "metadata": {
        "colab": {
          "base_uri": "https://localhost:8080/"
        },
        "id": "Gvj4Vw9LCWdU",
        "outputId": "4cc8523d-87c5-4179-bfab-af6221b54368"
      },
      "execution_count": 17,
      "outputs": [
        {
          "output_type": "stream",
          "name": "stdout",
          "text": [
            "2 {'W1': array([[0.1, 0.1],\n",
            "       [0.1, 0.1]]), 'b1': array([[0.],\n",
            "       [0.]]), 'W2': array([[0.1],\n",
            "       [0.1]]), 'b2': array([[0.]])}\n"
          ]
        },
        {
          "output_type": "execute_result",
          "data": {
            "text/plain": [
              "{'W1': array([[0.10658137, 0.10658137],\n",
              "        [0.10658137, 0.10658137]]),\n",
              " 'b1': array([[0.00082267],\n",
              "        [0.00082267]]),\n",
              " 'W2': array([[0.111776],\n",
              "        [0.111776]]),\n",
              " 'b2': array([[0.119136]])}"
            ]
          },
          "metadata": {},
          "execution_count": 17
        }
      ]
    },
    {
      "cell_type": "code",
      "source": [
        "x=df[['cgpa','profile_score']].values[1].reshape(2,1)\n",
        "y=df[['lpa']].values[1][0]\n",
        "\n",
        "parameters=initialize_parameters([2,2,1])\n",
        "y_hat,A1=L_layer_forward(x,parameters)\n",
        "y_hat=y_hat[0][0]\n",
        "\n",
        "update_parameter(parameters,y,y_hat,A1,x)\n",
        "parameters"
      ],
      "metadata": {
        "colab": {
          "base_uri": "https://localhost:8080/"
        },
        "id": "g_YyREOCDNmC",
        "outputId": "074e6bc8-2531-41c8-9775-da8daefbd9a9"
      },
      "execution_count": 18,
      "outputs": [
        {
          "output_type": "stream",
          "name": "stdout",
          "text": [
            "2 {'W1': array([[0.1, 0.1],\n",
            "       [0.1, 0.1]]), 'b1': array([[0.],\n",
            "       [0.]]), 'W2': array([[0.1],\n",
            "       [0.1]]), 'b2': array([[0.]])}\n"
          ]
        },
        {
          "output_type": "execute_result",
          "data": {
            "text/plain": [
              "{'W1': array([[0.10753323, 0.10968558],\n",
              "        [0.10753323, 0.10968558]]),\n",
              " 'b1': array([[0.00107618],\n",
              "        [0.00107618]]),\n",
              " 'W2': array([[0.114976],\n",
              "        [0.114976]]),\n",
              " 'b2': array([[0.124336]])}"
            ]
          },
          "metadata": {},
          "execution_count": 18
        }
      ]
    },
    {
      "cell_type": "code",
      "source": [
        "x=df[['cgpa','profile_score']].values[2].reshape(2,1)\n",
        "y=df[['lpa']].values[2][0]\n",
        "\n",
        "parameters=initialize_parameters([2,2,1])\n",
        "y_hat,A1=L_layer_forward(x,parameters)\n",
        "y_hat=y_hat[0][0]\n",
        "\n",
        "update_parameter(parameters,y,y_hat,A1,x)\n",
        "parameters"
      ],
      "metadata": {
        "colab": {
          "base_uri": "https://localhost:8080/"
        },
        "id": "U8CaF8lgD619",
        "outputId": "9e660011-f6c4-4f2a-94a2-10f136e33c60"
      },
      "execution_count": 19,
      "outputs": [
        {
          "output_type": "stream",
          "name": "stdout",
          "text": [
            "2 {'W1': array([[0.1, 0.1],\n",
            "       [0.1, 0.1]]), 'b1': array([[0.],\n",
            "       [0.]]), 'W2': array([[0.1],\n",
            "       [0.1]]), 'b2': array([[0.]])}\n"
          ]
        },
        {
          "output_type": "execute_result",
          "data": {
            "text/plain": [
              "{'W1': array([[0.10805488, 0.11342479],\n",
              "        [0.10805488, 0.11342479]]),\n",
              " 'b1': array([[0.00134248],\n",
              "        [0.00134248]]),\n",
              " 'W2': array([[0.118176],\n",
              "        [0.118176]]),\n",
              " 'b2': array([[0.129536]])}"
            ]
          },
          "metadata": {},
          "execution_count": 19
        }
      ]
    },
    {
      "cell_type": "code",
      "source": [
        "#epoch implementation\n",
        "parameters=initialize_parameters([2,2,1])\n",
        "epochs=5\n",
        "for i in range(epochs):\n",
        "  Loss=[]\n",
        "  for j in range(df.shape[0]):\n",
        "    x=df[['cgpa','profile_score']].values[j].reshape(2,1)\n",
        "    y=df[['lpa']].values[j][0]\n",
        "    y_hat,A1=L_layer_forward(x,parameters)\n",
        "    y_hat=y_hat[0][0]\n",
        "    update_parameter(parameters,y,y_hat,A1,x)\n",
        "    Loss.append((y-y_hat)**2)\n",
        "  print('Epoch: ',i+1, 'Loss: ', np.array(Loss).mean())\n",
        "\n",
        "parameters\n"
      ],
      "metadata": {
        "colab": {
          "base_uri": "https://localhost:8080/"
        },
        "id": "lTRCjOpXEBz1",
        "outputId": "64a9d71d-80e8-4a68-edee-f8d45c8cf478"
      },
      "execution_count": 23,
      "outputs": [
        {
          "output_type": "stream",
          "name": "stdout",
          "text": [
            "2 {'W1': array([[0.1, 0.1],\n",
            "       [0.1, 0.1]]), 'b1': array([[0.],\n",
            "       [0.]]), 'W2': array([[0.1],\n",
            "       [0.1]]), 'b2': array([[0.]])}\n",
            "2 {'W1': array([[0.10658137, 0.10658137],\n",
            "       [0.10658137, 0.10658137]]), 'b1': array([[0.00082267],\n",
            "       [0.00082267]]), 'W2': array([[0.111776],\n",
            "       [0.111776]]), 'b2': array([[0.119136]])}\n",
            "2 {'W1': array([[0.11458955, 0.1168776 ],\n",
            "       [0.11458955, 0.1168776 ]]), 'b1': array([[0.0019667],\n",
            "       [0.0019667]]), 'W2': array([[0.12712927],\n",
            "       [0.12712927]]), 'b2': array([[0.13612818]])}\n",
            "2 {'W1': array([[0.12409711, 0.13272353],\n",
            "       [0.12412266, 0.13276611]]), 'b1': array([[0.00355129],\n",
            "       [0.00355555]]), 'W2': array([[0.14692424],\n",
            "       [0.14731907]]), 'b2': array([[0.15810417]])}\n",
            "Epoch:  1 Loss:  25.321744156025517\n",
            "2 {'W1': array([[0.13482804, 0.15847776],\n",
            "       [0.1349909 , 0.15884991]]), 'b1': array([[0.00569748],\n",
            "       [0.0057292 ]]), 'W2': array([[0.17312488],\n",
            "       [0.17534027]]), 'b2': array([[0.18773702]])}\n",
            "2 {'W1': array([[0.1437341 , 0.16738383],\n",
            "       [0.14411185, 0.16797086]]), 'b1': array([[0.00681073],\n",
            "       [0.00686932]]), 'W2': array([[0.18607337],\n",
            "       [0.19056287]]), 'b2': array([[0.19654577]])}\n",
            "2 {'W1': array([[0.15475619, 0.18155508],\n",
            "       [0.15553536, 0.18265822]]), 'b1': array([[0.00838532],\n",
            "       [0.00850125]]), 'W2': array([[0.20391068],\n",
            "       [0.21133712]]), 'b2': array([[0.21905904]])}\n",
            "2 {'W1': array([[0.16744187, 0.20269788],\n",
            "       [0.16886056, 0.20486689]]), 'b1': array([[0.0104996 ],\n",
            "       [0.01072211]]), 'W2': array([[0.22711228],\n",
            "       [0.23856167]]), 'b2': array([[0.24787107]])}\n",
            "Epoch:  2 Loss:  18.320004165722047\n",
            "2 {'W1': array([[0.18100301, 0.23524462],\n",
            "       [0.18336278, 0.23967222]]), 'b1': array([[0.01321183],\n",
            "       [0.01362256]]), 'W2': array([[0.25739647],\n",
            "       [0.27525854]]), 'b2': array([[0.28579571]])}\n",
            "2 {'W1': array([[0.18921518, 0.24345679],\n",
            "       [0.1922245 , 0.24853394]]), 'b1': array([[0.01423835],\n",
            "       [0.01473027]]), 'W2': array([[0.26858759],\n",
            "       [0.28983138]]), 'b2': array([[0.29365331]])}\n",
            "2 {'W1': array([[0.20014476, 0.25750911],\n",
            "       [0.20415354, 0.26387128]]), 'b1': array([[0.01579972],\n",
            "       [0.01643442]]), 'W2': array([[0.28537753],\n",
            "       [0.31147414]]), 'b2': array([[0.31694538]])}\n",
            "2 {'W1': array([[0.21287024, 0.27871824],\n",
            "       [0.21822616, 0.28732564]]), 'b1': array([[0.01792063],\n",
            "       [0.01877986]]), 'W2': array([[0.30782644],\n",
            "       [0.34041338]]), 'b2': array([[0.34730334]])}\n",
            "Epoch:  3 Loss:  9.473661050729628\n",
            "2 {'W1': array([[0.22585131, 0.3098728 ],\n",
            "       [0.23281   , 0.32232686]]), 'b1': array([[0.02051684],\n",
            "       [0.02169662]]), 'W2': array([[0.33639014],\n",
            "       [0.37792434]]), 'b2': array([[0.38564221]])}\n",
            "2 {'W1': array([[0.22831673, 0.31233823],\n",
            "       [0.23558598, 0.32510284]]), 'b1': array([[0.02082502],\n",
            "       [0.02204362]]), 'W2': array([[0.3397372 ],\n",
            "       [0.38253181]]), 'b2': array([[0.38343892]])}\n",
            "2 {'W1': array([[0.23509059, 0.32104747],\n",
            "       [0.24326252, 0.33497268]]), 'b1': array([[0.02179271],\n",
            "       [0.02314027]]), 'W2': array([[0.35007363],\n",
            "       [0.39672445]]), 'b2': array([[0.39948871]])}\n",
            "2 {'W1': array([[0.24452913, 0.33677838],\n",
            "       [0.25406036, 0.35296907]]), 'b1': array([[0.02336581],\n",
            "       [0.02493991]]), 'W2': array([[0.36665576],\n",
            "       [0.41945979]]), 'b2': array([[0.42375017]])}\n",
            "Epoch:  4 Loss:  3.2520938634031613\n",
            "2 {'W1': array([[0.25426555, 0.36014576],\n",
            "       [0.2653287 , 0.38001309]]), 'b1': array([[0.02531309],\n",
            "       [0.02719358]]), 'W2': array([[0.388199  ],\n",
            "       [0.44927837]]), 'b2': array([[0.45429457]])}\n",
            "2 {'W1': array([[0.24968072, 0.35556094],\n",
            "       [0.26004246, 0.37472686]]), 'b1': array([[0.02473998],\n",
            "       [0.0265328 ]]), 'W2': array([[0.38192351],\n",
            "       [0.44035228]]), 'b2': array([[0.43885171]])}\n",
            "2 {'W1': array([[0.25182457, 0.35831731],\n",
            "       [0.26251936, 0.37791144]]), 'b1': array([[0.02504625],\n",
            "       [0.02688664]]), 'W2': array([[0.38519363],\n",
            "       [0.44503378]]), 'b2': array([[0.44582887]])}\n",
            "2 {'W1': array([[0.25800593, 0.36861958],\n",
            "       [0.26970762, 0.38989188]]), 'b1': array([[0.02607647],\n",
            "       [0.02808469]]), 'W2': array([[0.39601879],\n",
            "       [0.46052782]]), 'b2': array([[0.46312928]])}\n",
            "Epoch:  5 Loss:  1.3407132589299962\n"
          ]
        },
        {
          "output_type": "execute_result",
          "data": {
            "text/plain": [
              "{'W1': array([[0.26507636, 0.38558861],\n",
              "        [0.27800387, 0.40980287]]),\n",
              " 'b1': array([[0.02749056],\n",
              "        [0.02974394]]),\n",
              " 'W2': array([[0.41165744],\n",
              "        [0.48302736]]),\n",
              " 'b2': array([[0.48646246]])}"
            ]
          },
          "metadata": {},
          "execution_count": 23
        }
      ]
    },
    {
      "cell_type": "code",
      "source": [],
      "metadata": {
        "id": "pr_paJ0SGNB1"
      },
      "execution_count": null,
      "outputs": []
    }
  ]
}