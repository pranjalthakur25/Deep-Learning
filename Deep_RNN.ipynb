{
  "nbformat": 4,
  "nbformat_minor": 0,
  "metadata": {
    "colab": {
      "provenance": [],
      "authorship_tag": "ABX9TyMA1AFpBnL46mqQdqaCGOPt"
    },
    "kernelspec": {
      "name": "python3",
      "display_name": "Python 3"
    },
    "language_info": {
      "name": "python"
    }
  },
  "cells": [
    {
      "cell_type": "code",
      "execution_count": null,
      "metadata": {
        "id": "QOnLJ8DC24bX"
      },
      "outputs": [],
      "source": [
        "import tensorflow as tf\n",
        "from tensorflow.keras.datasets import imdb\n",
        "from tensorflow.keras.preprocessing.sequence import pad_sequences\n",
        "from tensorflow.keras.models import Sequential\n",
        "from tensorflow.keras.layers import Embedding,SimpleRNN,Dense"
      ]
    },
    {
      "cell_type": "code",
      "source": [
        "(x_train,y_train),(x_test,y_test)=imdb.load_data(num_words=10000)\n",
        "x_train=pad_sequences(x_train,maxlen=100)\n",
        "x_test=pad_sequences(x_test,maxlen=100)"
      ],
      "metadata": {
        "colab": {
          "base_uri": "https://localhost:8080/"
        },
        "id": "ykhTYsG03gQe",
        "outputId": "d262f33b-82c7-47b1-c955-7e787c893566"
      },
      "execution_count": null,
      "outputs": [
        {
          "output_type": "stream",
          "name": "stdout",
          "text": [
            "Downloading data from https://storage.googleapis.com/tensorflow/tf-keras-datasets/imdb.npz\n",
            "17464789/17464789 [==============================] - 0s 0us/step\n"
          ]
        }
      ]
    },
    {
      "cell_type": "code",
      "source": [
        "x_train"
      ],
      "metadata": {
        "colab": {
          "base_uri": "https://localhost:8080/"
        },
        "id": "gdpueDfX-z_p",
        "outputId": "cc95acca-6981-4436-a8c4-0b309a58d34e"
      },
      "execution_count": null,
      "outputs": [
        {
          "output_type": "execute_result",
          "data": {
            "text/plain": [
              "array([[1415,   33,    6, ...,   19,  178,   32],\n",
              "       [ 163,   11, 3215, ...,   16,  145,   95],\n",
              "       [1301,    4, 1873, ...,    7,  129,  113],\n",
              "       ...,\n",
              "       [  11,    6, 4065, ...,    4, 3586,    2],\n",
              "       [ 100, 2198,    8, ...,   12,    9,   23],\n",
              "       [  78, 1099,   17, ...,  204,  131,    9]], dtype=int32)"
            ]
          },
          "metadata": {},
          "execution_count": 3
        }
      ]
    },
    {
      "cell_type": "code",
      "source": [
        "model=Sequential([\n",
        "    Embedding(10000, 32, input_length=100),\n",
        "    SimpleRNN(5,return_sequences=True),\n",
        "    SimpleRNN(5),\n",
        "    Dense(1,activation='sigmoid')\n",
        "])\n",
        "model.summary()"
      ],
      "metadata": {
        "colab": {
          "base_uri": "https://localhost:8080/"
        },
        "id": "x-i_O_2P-2pH",
        "outputId": "8ed469c2-08e5-4bc4-e5a1-13cff421496f"
      },
      "execution_count": null,
      "outputs": [
        {
          "output_type": "stream",
          "name": "stdout",
          "text": [
            "Model: \"sequential_2\"\n",
            "_________________________________________________________________\n",
            " Layer (type)                Output Shape              Param #   \n",
            "=================================================================\n",
            " embedding_3 (Embedding)     (None, 100, 32)           320000    \n",
            "                                                                 \n",
            " simple_rnn_4 (SimpleRNN)    (None, 100, 5)            190       \n",
            "                                                                 \n",
            " simple_rnn_5 (SimpleRNN)    (None, 5)                 55        \n",
            "                                                                 \n",
            " dense_3 (Dense)             (None, 1)                 6         \n",
            "                                                                 \n",
            "=================================================================\n",
            "Total params: 320251 (1.22 MB)\n",
            "Trainable params: 320251 (1.22 MB)\n",
            "Non-trainable params: 0 (0.00 Byte)\n",
            "_________________________________________________________________\n"
          ]
        }
      ]
    },
    {
      "cell_type": "code",
      "source": [
        "model.compile(optimizer='adam',loss='binary_crossentropy',metrics=['accuracy'])"
      ],
      "metadata": {
        "id": "RCXYAN0q_Iut"
      },
      "execution_count": null,
      "outputs": []
    },
    {
      "cell_type": "code",
      "source": [
        "history=model.fit(x_train,y_train,epochs=5, batch_size=32,validation_split=0.2)"
      ],
      "metadata": {
        "colab": {
          "base_uri": "https://localhost:8080/"
        },
        "id": "OkqxyogEA84z",
        "outputId": "9169a904-9416-415d-aedc-caccd8b1b2c9"
      },
      "execution_count": null,
      "outputs": [
        {
          "output_type": "stream",
          "name": "stdout",
          "text": [
            "Epoch 1/5\n",
            "625/625 [==============================] - 33s 49ms/step - loss: 0.5218 - accuracy: 0.7499 - val_loss: 0.4421 - val_accuracy: 0.8106\n",
            "Epoch 2/5\n",
            "625/625 [==============================] - 32s 52ms/step - loss: 0.3604 - accuracy: 0.8519 - val_loss: 0.4194 - val_accuracy: 0.8146\n",
            "Epoch 3/5\n",
            "625/625 [==============================] - 30s 49ms/step - loss: 0.2912 - accuracy: 0.8894 - val_loss: 0.4251 - val_accuracy: 0.8166\n",
            "Epoch 4/5\n",
            "625/625 [==============================] - 31s 50ms/step - loss: 0.2610 - accuracy: 0.9012 - val_loss: 0.4321 - val_accuracy: 0.8280\n",
            "Epoch 5/5\n",
            "625/625 [==============================] - 32s 51ms/step - loss: 0.2040 - accuracy: 0.9250 - val_loss: 0.4761 - val_accuracy: 0.8154\n"
          ]
        }
      ]
    },
    {
      "cell_type": "markdown",
      "source": [
        "DEEP LSTM"
      ],
      "metadata": {
        "id": "GCqGnV8MB8gb"
      }
    },
    {
      "cell_type": "code",
      "source": [
        "# model=Sequential([\n",
        "#     Embedding(10000, 32, input_length=100),\n",
        "#     LSTM(5,return_sequences=True),\n",
        "#     LSTM(5),\n",
        "#     Dense(1,activation='sigmoid')\n",
        "# ])\n",
        "# model.summary()\n"
      ],
      "metadata": {
        "id": "dBMvp5kGBPNJ"
      },
      "execution_count": null,
      "outputs": []
    },
    {
      "cell_type": "markdown",
      "source": [
        "DEEP GRU"
      ],
      "metadata": {
        "id": "C0KznVexB-zj"
      }
    },
    {
      "cell_type": "code",
      "source": [
        "# model=Sequential([\n",
        "#     Embedding(10000, 32, input_length=100),\n",
        "#     GRU(5,return_sequences=True),\n",
        "#     GRU(5),\n",
        "#     Dense(1,activation='sigmoid')\n",
        "# ])\n",
        "# model.summary()"
      ],
      "metadata": {
        "id": "iAnq3YXGBvGa"
      },
      "execution_count": null,
      "outputs": []
    }
  ]
}